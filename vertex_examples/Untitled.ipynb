{
 "cells": [
  {
   "cell_type": "code",
   "execution_count": 1,
   "id": "a864d5e1",
   "metadata": {},
   "outputs": [],
   "source": [
    "using JLD2"
   ]
  },
  {
   "cell_type": "code",
   "execution_count": 3,
   "id": "709c55c2",
   "metadata": {},
   "outputs": [
    {
     "data": {
      "text/plain": [
       "1-element Vector{Symbol}:\n",
       " :eqdataF"
      ]
     },
     "execution_count": 3,
     "metadata": {},
     "output_type": "execute_result"
    }
   ],
   "source": [
    "@load \"isovertex_0.0-to-20.0.jld2\" eqdataF "
   ]
  },
  {
   "cell_type": "code",
   "execution_count": 4,
   "id": "9c2bba1e",
   "metadata": {},
   "outputs": [
    {
     "data": {
      "text/plain": [
       "41-element Vector{Any}:\n",
       " ComplexF64[0.0 + 0.0im, 1.0 + 0.0im, 9.2333e-5 + 0.0im, 22456.0 + 0.0im]\n",
       " ComplexF64[0.5 + 0.0im, 0.0 + 0.0im, 0.000101625 + 0.0im, 55176.0 + 0.0im]\n",
       " ComplexF64[1.0 + 0.0im, -1.3431789032188237e-5 - 1.0444279460437413e-5im, 0.007705417 + 0.0im, 234248.0 + 0.0im]\n",
       " ComplexF64[1.5 + 0.0im, 0.0 + 0.0im, 0.000477792 + 0.0im, 843440.0 + 0.0im]\n",
       " ComplexF64[2.0 + 0.0im, -3.3518487455953637e-7 - 1.3184225803740698e-6im, 0.001405958 + 0.0im, 2.577952e6 + 0.0im]\n",
       " ComplexF64[2.5 + 0.0im, 0.0 + 0.0im, 0.001648292 + 0.0im, 3.329288e6 + 0.0im]\n",
       " ComplexF64[3.0 + 0.0im, -6.919924809486303e-8 + 1.5836310284450402e-7im, 0.004204125 + 0.0im, 7.725528e6 + 0.0im]\n",
       " ComplexF64[3.5 + 0.0im, 0.0 + 0.0im, 0.004399042 + 0.0im, 9.049312e6 + 0.0im]\n",
       " ComplexF64[4.0 + 0.0im, 7.634335692018915e-10 - 4.1500119468364003e-10im, 0.010321208 + 0.0im, 1.7654904e7 + 0.0im]\n",
       " ComplexF64[4.5 + 0.0im, 0.0 + 0.0im, 0.022273459 + 0.0im, 1.6156632e7 + 0.0im]\n",
       " ComplexF64[5.0 + 0.0im, 9.114671615108787e-9 + 1.4990319199577605e-9im, 0.020483459 + 0.0im, 3.3876096e7 + 0.0im]\n",
       " ComplexF64[5.5 + 0.0im, 0.0 + 0.0im, 0.031229791 + 0.0im, 3.614876e7 + 0.0im]\n",
       " ComplexF64[6.0 + 0.0im, -1.9386513449133816e-9 - 2.0940923817507443e-9im, 0.069009708 + 0.0im, 6.08458e7 + 0.0im]\n",
       " ⋮\n",
       " ComplexF64[14.5 + 0.0im, 0.0 + 0.0im, 0.867980333 + 0.0im, 8.30499432e8 + 0.0im]\n",
       " ComplexF64[15.0 + 0.0im, -2.7723416607824948e-12 - 1.4752220930131572e-12im, 1.71521375 + 0.0im, 1.328608504e9 + 0.0im]\n",
       " ComplexF64[15.5 + 0.0im, 0.0 + 0.0im, 1.432878417 + 0.0im, 1.243069544e9 + 0.0im]\n",
       " ComplexF64[16.0 + 0.0im, -3.7489931641449415e-12 - 8.375600878924258e-12im, 1.645578584 + 0.0im, 1.681452696e9 + 0.0im]\n",
       " ComplexF64[16.5 + 0.0im, 0.0 + 0.0im, 1.429933333 + 0.0im, 1.33182892e9 + 0.0im]\n",
       " ComplexF64[17.0 + 0.0im, -1.6614849490870591e-12 + 6.787783268655022e-12im, 2.777774167 + 0.0im, 2.142574848e9 + 0.0im]\n",
       " ComplexF64[17.5 + 0.0im, 0.0 + 0.0im, 1.833175125 + 0.0im, 1.651386688e9 + 0.0im]\n",
       " ComplexF64[18.0 + 0.0im, -2.3269421807426554e-13 + 1.8428524529022173e-13im, 3.33813075 + 0.0im, 2.577712792e9 + 0.0im]\n",
       " ComplexF64[18.5 + 0.0im, 0.0 + 0.0im, 3.070796625 + 0.0im, 2.0271852e9 + 0.0im]\n",
       " ComplexF64[19.0 + 0.0im, 3.7969333330401305e-12 - 3.380028551223188e-14im, 2.988497875 + 0.0im, 3.137264088e9 + 0.0im]\n",
       " ComplexF64[19.5 + 0.0im, 0.0 + 0.0im, 3.739605416 + 0.0im, 2.466075896e9 + 0.0im]\n",
       " ComplexF64[20.0 + 0.0im, -1.7815063616126413e-12 - 1.3599894317493352e-12im, 5.431907459 + 0.0im, 3.785935472e9 + 0.0im]"
      ]
     },
     "execution_count": 4,
     "metadata": {},
     "output_type": "execute_result"
    }
   ],
   "source": [
    "eqdataF"
   ]
  },
  {
   "cell_type": "code",
   "execution_count": null,
   "id": "570943cc",
   "metadata": {},
   "outputs": [],
   "source": []
  },
  {
   "cell_type": "code",
   "execution_count": null,
   "id": "f649ae99",
   "metadata": {},
   "outputs": [],
   "source": [
    "@load \"equivertex_$k1-to-$k2.jld2\" dataA dataB"
   ]
  },
  {
   "cell_type": "code",
   "execution_count": null,
   "id": "980709dc",
   "metadata": {},
   "outputs": [],
   "source": []
  },
  {
   "cell_type": "code",
   "execution_count": null,
   "id": "f284cba3",
   "metadata": {},
   "outputs": [],
   "source": []
  },
  {
   "cell_type": "code",
   "execution_count": null,
   "id": "8b90a819",
   "metadata": {},
   "outputs": [],
   "source": []
  },
  {
   "cell_type": "code",
   "execution_count": null,
   "id": "a12372d5",
   "metadata": {},
   "outputs": [],
   "source": []
  },
  {
   "cell_type": "code",
   "execution_count": null,
   "id": "9e77f1b8",
   "metadata": {},
   "outputs": [],
   "source": []
  },
  {
   "cell_type": "code",
   "execution_count": null,
   "id": "516367fd",
   "metadata": {},
   "outputs": [],
   "source": []
  },
  {
   "cell_type": "code",
   "execution_count": null,
   "id": "1f0cd313",
   "metadata": {},
   "outputs": [],
   "source": []
  },
  {
   "cell_type": "code",
   "execution_count": null,
   "id": "3ee83219",
   "metadata": {},
   "outputs": [],
   "source": []
  }
 ],
 "metadata": {
  "kernelspec": {
   "display_name": "Julia 1.9.3",
   "language": "julia",
   "name": "julia-1.9"
  },
  "language_info": {
   "file_extension": ".jl",
   "mimetype": "application/julia",
   "name": "julia",
   "version": "1.9.3"
  }
 },
 "nbformat": 4,
 "nbformat_minor": 5
}
