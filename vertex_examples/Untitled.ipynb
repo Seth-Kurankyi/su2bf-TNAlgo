{
 "cells": [
  {
   "cell_type": "code",
   "execution_count": 1,
   "id": "11d9855b",
   "metadata": {},
   "outputs": [],
   "source": [
    "using JLD2"
   ]
  },
  {
   "cell_type": "code",
   "execution_count": 2,
   "id": "c0be16c4",
   "metadata": {},
   "outputs": [
    {
     "data": {
      "text/plain": [
       "1-element Vector{Symbol}:\n",
       " :isodataF"
      ]
     },
     "execution_count": 2,
     "metadata": {},
     "output_type": "execute_result"
    }
   ],
   "source": [
    "@load \"isovertex_0.0-to-20.0.jld2\" isodataF "
   ]
  },
  {
   "cell_type": "code",
   "execution_count": 10,
   "id": "f7cbff3d",
   "metadata": {},
   "outputs": [
    {
     "data": {
      "text/plain": [
       "21-element Vector{ComplexF64}:\n",
       "    6.175e-5 + 0.0im\n",
       " 0.007357375 + 0.0im\n",
       " 0.001571125 + 0.0im\n",
       "   0.0044695 + 0.0im\n",
       " 0.010572542 + 0.0im\n",
       " 0.033424917 + 0.0im\n",
       " 0.050858375 + 0.0im\n",
       " 0.090486167 + 0.0im\n",
       " 0.156902334 + 0.0im\n",
       " 0.223267375 + 0.0im\n",
       " 0.331407916 + 0.0im\n",
       " 0.479737125 + 0.0im\n",
       " 0.695115584 + 0.0im\n",
       "  1.03028375 + 0.0im\n",
       " 1.407338834 + 0.0im\n",
       " 2.201420625 + 0.0im\n",
       " 2.313110084 + 0.0im\n",
       " 2.789749292 + 0.0im\n",
       " 3.135818375 + 0.0im\n",
       " 3.950746125 + 0.0im\n",
       " 5.543037208 + 0.0im"
      ]
     },
     "execution_count": 10,
     "metadata": {},
     "output_type": "execute_result"
    }
   ],
   "source": [
    "getindex.(isodataF,3)"
   ]
  },
  {
   "cell_type": "code",
   "execution_count": null,
   "id": "60a7880e",
   "metadata": {},
   "outputs": [],
   "source": []
  },
  {
   "cell_type": "code",
   "execution_count": null,
   "id": "c2352f24",
   "metadata": {},
   "outputs": [],
   "source": []
  },
  {
   "cell_type": "code",
   "execution_count": null,
   "id": "588d6969",
   "metadata": {},
   "outputs": [],
   "source": []
  },
  {
   "cell_type": "code",
   "execution_count": null,
   "id": "31668585",
   "metadata": {},
   "outputs": [],
   "source": []
  },
  {
   "cell_type": "code",
   "execution_count": null,
   "id": "107c0a19",
   "metadata": {},
   "outputs": [],
   "source": []
  },
  {
   "cell_type": "code",
   "execution_count": null,
   "id": "16b6272a",
   "metadata": {},
   "outputs": [],
   "source": []
  },
  {
   "cell_type": "code",
   "execution_count": null,
   "id": "bdd10e3d",
   "metadata": {},
   "outputs": [],
   "source": []
  },
  {
   "cell_type": "code",
   "execution_count": null,
   "id": "916afd0e",
   "metadata": {},
   "outputs": [],
   "source": []
  },
  {
   "cell_type": "code",
   "execution_count": null,
   "id": "b93b1c35",
   "metadata": {},
   "outputs": [],
   "source": []
  }
 ],
 "metadata": {
  "kernelspec": {
   "display_name": "Julia 1.9.3",
   "language": "julia",
   "name": "julia-1.9"
  },
  "language_info": {
   "file_extension": ".jl",
   "mimetype": "application/julia",
   "name": "julia",
   "version": "1.9.3"
  }
 },
 "nbformat": 4,
 "nbformat_minor": 5
}
